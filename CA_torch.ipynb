{
 "cells": [
  {
   "cell_type": "code",
   "execution_count": 3,
   "id": "4164f84b",
   "metadata": {},
   "outputs": [],
   "source": [
    "import torch"
   ]
  },
  {
   "cell_type": "code",
   "execution_count": 5,
   "id": "14ce8325",
   "metadata": {},
   "outputs": [],
   "source": [
    "device = torch.device('cuda' if torch.cuda.is_available() else 'cpu')"
   ]
  },
  {
   "cell_type": "code",
   "execution_count": null,
   "id": "b42575fa",
   "metadata": {},
   "outputs": [],
   "source": [
    "class CA_torch:\n",
    "    def __init__(self, state_initial):\n",
    "        self.state_initial = state_initial\n",
    "        rule = torch.tensor([[0, 0, 0, 1, 0, 0, 0, 0, 0],\n",
    "                                  [0, 0, 1, 1, 0, 0, 0, 0, 0]], dtype=torch.float32)\n",
    "        self.rule = rule.to(device)\n",
    "        kernel =  torch.tensor([[1, 1, 1], \n",
    "                               [1, 0, 1], \n",
    "                               [1, 1, 1]], dtype=torch.float32)\n",
    "        kernel = kernel.unsqueeze(0).unsqueeze(0)\n",
    "        self.kernel = kernel.to(device)\n",
    "\n",
    "    def run(self):\n",
    "        neighborhood_sum = torch.nn.functional.conv2d(self.state_initial, self.kernel, padding=1)[0, 0]\n",
    "        self.state_initial = self.rule[self.state_initial.long(), neighborhood_sum.long()]\n",
    "\n",
    "        return self.state_initial"
   ]
  }
 ],
 "metadata": {
  "kernelspec": {
   "display_name": "Python 3",
   "language": "python",
   "name": "python3"
  },
  "language_info": {
   "codemirror_mode": {
    "name": "ipython",
    "version": 3
   },
   "file_extension": ".py",
   "mimetype": "text/x-python",
   "name": "python",
   "nbconvert_exporter": "python",
   "pygments_lexer": "ipython3",
   "version": "3.9.12"
  }
 },
 "nbformat": 4,
 "nbformat_minor": 5
}

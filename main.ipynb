{
 "cells": [
  {
   "cell_type": "markdown",
   "id": "1b8d8dc8",
   "metadata": {},
   "source": [
    "# Introduction"
   ]
  },
  {
   "cell_type": "markdown",
   "id": "0c2f2373",
   "metadata": {},
   "source": [
    "The Cellular automata is a simple model usually calculated on a cartesian grid. With a set of simple rules and initial conditions it is possible to achieve fractals or as in this case; Conway's game of life we may simulate population growth and spread of the species. One cell represents one organism which may be alive or dead. When it's alive the cell value is set to one, when it's dead, the cell is set to zero. The rules of the game are as follow:\\\n",
    "1. Any live cell with less than two live neighbors or more than three live neighbors dies (underpopulation and overpopulation respectively)\n",
    "2. Any live cell with two or three live neighbors lives\n",
    "3. Any dead cell with exactly three live neighbors becomes alive (reproduction)\\"
   ]
  },
  {
   "cell_type": "markdown",
   "id": "d8574197",
   "metadata": {},
   "source": [
    "# Methods\n",
    "The simplest way of translating it to code would be a set of nested if else statements. However it is not the most efficient method and coding it, is prone to errors. To avoid nesting the rule set is encoded in 2D array where 0th row is the ruleset for dead center cell, whereas the 1st row is for the living cell.\n",
    "The sum of neighbors in 2D case may take 9 values ranging from 0 to 8. Therfore the array will be of the following form\\\n",
    "$$\\begin{bmatrix} 0 & 0 & 0 & 1 & 0 & 0 & 0 & 0 & 0 \\\\ 0 & 0 & 1 & 1 & 0 & 0 & 0 & 0 & 0 \\\\ \\end{bmatrix}$$\n",
    "\n",
    "If the cell is alive (1) and the sum of its neighbors equal 3, then these numbers are used as indices in the array above to access and assign state to the center cell.\\\n",
    "\\\n",
    "To optimize the code even more, I use convolution with a kernel which sums all the neighoboring cells (the center is set to zero to avoid counting itself).\n",
    "$$\\begin{bmatrix} 1 & 1 & 1 \\\\ 1 & 0 & 1 \\\\ 1 & 1 & 1 \\end{bmatrix}$$"
   ]
  },
  {
   "cell_type": "markdown",
   "id": "066e0a04",
   "metadata": {},
   "source": [
    "# Objectives\n",
    "1. Optimize the code to run on GPU - cellular automata classes were written for CPU and GPU, and are imported from files CA_numpy (which runs on CPU) and CA_torch (which runs on GPU)\n",
    "2. Cellular automata (CA) is similar to Lattice Boltzmann method (LBM) to simulate fluids. Implementation of CA is a good exercise before delving into LBM."
   ]
  },
  {
   "cell_type": "code",
   "execution_count": 142,
   "id": "43f9641a",
   "metadata": {},
   "outputs": [],
   "source": [
    "import torch\n",
    "import numpy as np\n",
    "from scipy import signal\n",
    "import matplotlib.pyplot as plt\n",
    "from matplotlib import animation\n",
    "from matplotlib.animation import PillowWriter\n",
    "import time\n",
    "import pandas as pd\n",
    "from collections import defaultdict\n",
    "%run CA_torch.ipynb\n",
    "%run CA_numpy.ipynb"
   ]
  },
  {
   "cell_type": "code",
   "execution_count": 143,
   "id": "a9d0ed75",
   "metadata": {},
   "outputs": [],
   "source": [
    "def initialize_conway(N):\n",
    "    '''Initializes a pattern for The Game of Life'''\n",
    "    center = int(N/2)\n",
    "    boundary = torch.zeros(N)\n",
    "    state_initial = torch.zeros((N,N))\n",
    "    # state_initial = np.eye(N, dtype='i')\n",
    "    state_initial[center,center] = 1\n",
    "    state_initial[center-1,center] = 1\n",
    "    state_initial[center+1,center] = 1\n",
    "    state_initial[center, center -1] = 1\n",
    "    state_initial[center+1, center+1] = 1\n",
    "    return state_initial"
   ]
  },
  {
   "cell_type": "code",
   "execution_count": 144,
   "id": "1d5039a3",
   "metadata": {},
   "outputs": [],
   "source": [
    "def initialize_random(N):\n",
    "    '''Initialized random pattern. Used for speed comparison CPU vs GPU'''\n",
    "    boundary = torch.zeros(N, dtype = float)\n",
    "    state_initial = torch.randint(0,2, (N,N), dtype=torch.float32)\n",
    "    state_initial[0,:] = boundary\n",
    "    state_initial[N-1,:] = boundary\n",
    "    state_initial[:,0] = boundary\n",
    "    state_initial[:,N-1] = boundary\n",
    "    return state_initial"
   ]
  },
  {
   "cell_type": "code",
   "execution_count": 145,
   "id": "477ca118",
   "metadata": {},
   "outputs": [],
   "source": [
    "if torch.cuda.is_available():\n",
    "    device = torch.device(\"cuda\")"
   ]
  },
  {
   "cell_type": "markdown",
   "id": "ea57b45c",
   "metadata": {},
   "source": [
    "# Conway's game of life\n",
    "The state is initialized the same way as\\\n",
    "https://en.wikipedia.org/wiki/Conway%27s_Game_of_Life \\\n",
    "since it creates interesting patterns and is used for comparison of my implementation."
   ]
  },
  {
   "cell_type": "code",
   "execution_count": 146,
   "id": "32f9c8a0",
   "metadata": {},
   "outputs": [],
   "source": [
    "n_cells = 50\n",
    "initial_gof_torch = initialize_conway(n_cells).to(device).unsqueeze(0).unsqueeze(0).to(device)"
   ]
  },
  {
   "cell_type": "code",
   "execution_count": 147,
   "id": "38e08e70",
   "metadata": {},
   "outputs": [],
   "source": [
    "initial_gof = initial_gof_torch.squeeze().detach().cpu().numpy()"
   ]
  },
  {
   "cell_type": "code",
   "execution_count": 148,
   "id": "c514f237",
   "metadata": {},
   "outputs": [],
   "source": [
    "initial_gof = initial_gof"
   ]
  },
  {
   "cell_type": "code",
   "execution_count": 149,
   "id": "3af1d4e0",
   "metadata": {},
   "outputs": [],
   "source": [
    "gof_np = CA_numpy(initial_gof) # runs on CPU"
   ]
  },
  {
   "cell_type": "code",
   "execution_count": 150,
   "id": "87480c3d",
   "metadata": {},
   "outputs": [],
   "source": [
    "gof_torch = CA_torch2(initial_gof_torch) # runs on GPU"
   ]
  },
  {
   "cell_type": "code",
   "execution_count": 151,
   "id": "669bbcb3",
   "metadata": {},
   "outputs": [],
   "source": [
    "def animate_numpy(time_step):\n",
    "    ax.clear()\n",
    "    ax.set_axis_off()\n",
    "    state = gof_np.run()\n",
    "    img = ax.matshow(state, cmap='Greys')\n",
    "    return [img]"
   ]
  },
  {
   "cell_type": "code",
   "execution_count": 152,
   "id": "c776c922",
   "metadata": {
    "scrolled": false
   },
   "outputs": [
    {
     "data": {
      "image/png": "[encoded data removed]",
      "text/plain": [
       "<Figure size 360x360 with 1 Axes>"
      ]
     },
     "metadata": {
      "needs_background": "light"
     },
     "output_type": "display_data"
    }
   ],
   "source": [
    "fig = plt.figure(figsize = (5,5))\n",
    "ax = plt.axes()\n",
    "ax.set_axis_off()\n",
    "\n",
    "writer = animation.FFMpegWriter(fps = 30)\n",
    "ani = animation.FuncAnimation(fig, animate_numpy, frames=100, interval = 1000, blit = True)\n",
    "ani.save('GOF_CPU.mp4', writer=writer, dpi = 200)"
   ]
  },
  {
   "cell_type": "code",
   "execution_count": 153,
   "id": "6132f45d",
   "metadata": {},
   "outputs": [],
   "source": [
    "def animate_torch(time_step):\n",
    "    '''Separate function for animiation since for plotting the data shape has to changed to 2D\n",
    "    and transferred from GPU to CPU'''\n",
    "    ax.clear()\n",
    "    ax.set_axis_off()\n",
    "    state = gof_torch.run().squeeze()\n",
    "    np_arr = state.to('cpu').numpy()\n",
    "    img = ax.matshow(np_arr, cmap='Greys')\n",
    "    return [img]"
   ]
  },
  {
   "cell_type": "code",
   "execution_count": 154,
   "id": "bc58458b",
   "metadata": {
    "scrolled": true
   },
   "outputs": [
    {
     "data": {
      "image/png": "[encoded data removed]",
      "text/plain": [
       "<Figure size 360x360 with 1 Axes>"
      ]
     },
     "metadata": {
      "needs_background": "light"
     },
     "output_type": "display_data"
    }
   ],
   "source": [
    "fig = plt.figure(figsize = (5,5))\n",
    "ax = plt.axes()\n",
    "ax.set_axis_off()\n",
    "\n",
    "writer = animation.FFMpegWriter(fps = 30)\n",
    "ani = animation.FuncAnimation(fig, animate_torch, frames=100, interval = 1000, blit = True)\n",
    "ani.save('GOF_GPU.mp4', writer=writer, dpi = 200)"
   ]
  },
  {
   "cell_type": "markdown",
   "id": "c5d97d2b",
   "metadata": {},
   "source": [
    "# Speed tests\n",
    "The pytorch convolution works only with float type. The neighbor sum which is used as an index to lookup a value in rule set tensor needs to be converted to int. Therefore to make this test fair, the same approach was used for the numpy/scipy implementation. 1000 time steps are calculated for varius grid size."
   ]
  },
  {
   "cell_type": "code",
   "execution_count": 34,
   "id": "9ea17be3",
   "metadata": {},
   "outputs": [],
   "source": [
    "grid_sizes = [100, 500, 1000, 1500] # Number of rows = Number of collumns, the problem size is for example 100x1000\n",
    "results = {'size':[], 'time':[], 'unit':[]}"
   ]
  },
  {
   "cell_type": "code",
   "execution_count": 35,
   "id": "11cedbc3",
   "metadata": {},
   "outputs": [],
   "source": [
    "for size in grid_sizes:   \n",
    "    initial_random_torch = initialize_random(size).unsqueeze(0).unsqueeze(0).to(device)\n",
    "    random_torch = CA_torch2(initial_random_torch)\n",
    "    \n",
    "    initial_random_numpy = initial_random_torch.squeeze().detach().cpu().numpy()\n",
    "    random_numpy = CA_numpy(initial_random_numpy)\n",
    "    \n",
    "    results['unit'].append('CPU')\n",
    "    results['size'].append(size)\n",
    "    start = time.time()\n",
    "    for step in range(1000):\n",
    "        random_numpy.run()\n",
    "    end = time.time()\n",
    "    \n",
    "    results['time'].append(end-start)\n",
    "    \n",
    "    results['unit'].append('GPU')\n",
    "    results['size'].append(size)\n",
    "    start = time.time()\n",
    "    for step in range(1000):\n",
    "        random_torch.run()\n",
    "    end = time.time()\n",
    "    \n",
    "    results['time'].append(end-start)\n",
    "    "
   ]
  },
  {
   "cell_type": "code",
   "execution_count": 37,
   "id": "321989b8",
   "metadata": {},
   "outputs": [],
   "source": [
    "df = pd.DataFrame(results)"
   ]
  },
  {
   "cell_type": "code",
   "execution_count": 109,
   "id": "cc66f48e",
   "metadata": {},
   "outputs": [
    {
     "data": {
      "text/html": [
       "<div>\n",
       "<style scoped>\n",
       "    .dataframe tbody tr th:only-of-type {\n",
       "        vertical-align: middle;\n",
       "    }\n",
       "\n",
       "    .dataframe tbody tr th {\n",
       "        vertical-align: top;\n",
       "    }\n",
       "\n",
       "    .dataframe thead th {\n",
       "        text-align: right;\n",
       "    }\n",
       "</style>\n",
       "<table border=\"1\" class=\"dataframe\">\n",
       "  <thead>\n",
       "    <tr style=\"text-align: right;\">\n",
       "      <th></th>\n",
       "      <th>size</th>\n",
       "      <th>time</th>\n",
       "      <th>unit</th>\n",
       "    </tr>\n",
       "  </thead>\n",
       "  <tbody>\n",
       "    <tr>\n",
       "      <th>0</th>\n",
       "      <td>100</td>\n",
       "      <td>0.377000</td>\n",
       "      <td>CPU</td>\n",
       "    </tr>\n",
       "    <tr>\n",
       "      <th>1</th>\n",
       "      <td>100</td>\n",
       "      <td>0.136999</td>\n",
       "      <td>GPU</td>\n",
       "    </tr>\n",
       "    <tr>\n",
       "      <th>2</th>\n",
       "      <td>500</td>\n",
       "      <td>9.817812</td>\n",
       "      <td>CPU</td>\n",
       "    </tr>\n",
       "    <tr>\n",
       "      <th>3</th>\n",
       "      <td>500</td>\n",
       "      <td>0.208476</td>\n",
       "      <td>GPU</td>\n",
       "    </tr>\n",
       "    <tr>\n",
       "      <th>4</th>\n",
       "      <td>1000</td>\n",
       "      <td>40.750034</td>\n",
       "      <td>CPU</td>\n",
       "    </tr>\n",
       "    <tr>\n",
       "      <th>5</th>\n",
       "      <td>1000</td>\n",
       "      <td>1.177582</td>\n",
       "      <td>GPU</td>\n",
       "    </tr>\n",
       "    <tr>\n",
       "      <th>6</th>\n",
       "      <td>1500</td>\n",
       "      <td>91.271032</td>\n",
       "      <td>CPU</td>\n",
       "    </tr>\n",
       "    <tr>\n",
       "      <th>7</th>\n",
       "      <td>1500</td>\n",
       "      <td>1.388890</td>\n",
       "      <td>GPU</td>\n",
       "    </tr>\n",
       "  </tbody>\n",
       "</table>\n",
       "</div>"
      ],
      "text/plain": [
       "   size       time unit\n",
       "0   100   0.377000  CPU\n",
       "1   100   0.136999  GPU\n",
       "2   500   9.817812  CPU\n",
       "3   500   0.208476  GPU\n",
       "4  1000  40.750034  CPU\n",
       "5  1000   1.177582  GPU\n",
       "6  1500  91.271032  CPU\n",
       "7  1500   1.388890  GPU"
      ]
     },
     "execution_count": 109,
     "metadata": {},
     "output_type": "execute_result"
    }
   ],
   "source": [
    "df"
   ]
  },
  {
   "cell_type": "code",
   "execution_count": 80,
   "id": "50abf550",
   "metadata": {},
   "outputs": [
    {
     "data": {
      "image/png": "[encoded data removed]",
      "text/plain": [
       "<Figure size 360x360 with 1 Axes>"
      ]
     },
     "metadata": {
      "needs_background": "light"
     },
     "output_type": "display_data"
    }
   ],
   "source": [
    "fig, ax = plt.subplots(figsize = (5,5))\n",
    "major_ticks = np.arange(0,2000, 500)\n",
    "ax.set_xticks(major_ticks, minor = False)\n",
    "ax.scatter(df.loc[df['unit']=='CPU']['size'], np.log10(df.loc[df['unit']=='CPU']['time']), label = 'CPU')\n",
    "ax.scatter(df.loc[df['unit']=='GPU']['size'], np.log10(df.loc[df['unit']=='GPU']['time']), label = 'GPU')\n",
    "ax.set_xlabel('grid size')\n",
    "ax.set_ylabel('log$_{10}$t', fontsize = 15)\n",
    "plt.title('Grid vs log10 time')\n",
    "fig.legend()\n",
    "plt.grid()"
   ]
  },
  {
   "cell_type": "code",
   "execution_count": 130,
   "id": "faf75dc0",
   "metadata": {},
   "outputs": [
    {
     "data": {
      "text/html": [
       "<div>\n",
       "<style scoped>\n",
       "    .dataframe tbody tr th:only-of-type {\n",
       "        vertical-align: middle;\n",
       "    }\n",
       "\n",
       "    .dataframe tbody tr th {\n",
       "        vertical-align: top;\n",
       "    }\n",
       "\n",
       "    .dataframe thead th {\n",
       "        text-align: right;\n",
       "    }\n",
       "</style>\n",
       "<table border=\"1\" class=\"dataframe\">\n",
       "  <thead>\n",
       "    <tr style=\"text-align: right;\">\n",
       "      <th></th>\n",
       "      <th>100</th>\n",
       "      <th>500</th>\n",
       "      <th>1000</th>\n",
       "      <th>1500</th>\n",
       "    </tr>\n",
       "  </thead>\n",
       "  <tbody>\n",
       "    <tr>\n",
       "      <th>0</th>\n",
       "      <td>2.75184</td>\n",
       "      <td>47.093288</td>\n",
       "      <td>34.604844</td>\n",
       "      <td>65.7151</td>\n",
       "    </tr>\n",
       "  </tbody>\n",
       "</table>\n",
       "</div>"
      ],
      "text/plain": [
       "      100        500        1000     1500\n",
       "0  2.75184  47.093288  34.604844  65.7151"
      ]
     },
     "execution_count": 130,
     "metadata": {},
     "output_type": "execute_result"
    }
   ],
   "source": [
    "speed_up = defaultdict(list)\n",
    "for index in range(0, len(df.index)-1, 2):\n",
    "    ratio = df.iloc[index]['time']/df.iloc[index+1]['time']\n",
    "    speed_up[grid_sizes[int(index/2)]].append(ratio)\n",
    "df_speed = pd.DataFrame(speed_up)\n",
    "df_speed"
   ]
  },
  {
   "cell_type": "markdown",
   "id": "36e8a654",
   "metadata": {},
   "source": [
    "The speed up is tremendous, the bigger the problem the faster the GPU is, as expected. Let's see what happens if I'll keep increasing the the grid size."
   ]
  },
  {
   "cell_type": "code",
   "execution_count": 135,
   "id": "5ec72eec",
   "metadata": {},
   "outputs": [],
   "source": [
    "grids = [100, 500, 1000, 1500, 2000, 2500, 3000, 3500, 4000, 4500, 5000]\n",
    "results_gpu = {'size':[], 'time':[]}\n",
    "for size in grids:   \n",
    "    initial_random_torch = initialize_random(size).unsqueeze(0).unsqueeze(0).to(device)\n",
    "    random_torch = CA_torch2(initial_random_torch)\n",
    "    \n",
    "    results_gpu['size'].append(size)\n",
    "    start = time.time()\n",
    "    for step in range(1000):\n",
    "        random_torch.run()\n",
    "    end = time.time()\n",
    "    \n",
    "    results_gpu['time'].append(end-start)"
   ]
  },
  {
   "cell_type": "code",
   "execution_count": 137,
   "id": "7142d933",
   "metadata": {},
   "outputs": [
    {
     "data": {
      "text/html": [
       "<div>\n",
       "<style scoped>\n",
       "    .dataframe tbody tr th:only-of-type {\n",
       "        vertical-align: middle;\n",
       "    }\n",
       "\n",
       "    .dataframe tbody tr th {\n",
       "        vertical-align: top;\n",
       "    }\n",
       "\n",
       "    .dataframe thead th {\n",
       "        text-align: right;\n",
       "    }\n",
       "</style>\n",
       "<table border=\"1\" class=\"dataframe\">\n",
       "  <thead>\n",
       "    <tr style=\"text-align: right;\">\n",
       "      <th></th>\n",
       "      <th>size</th>\n",
       "      <th>time</th>\n",
       "    </tr>\n",
       "  </thead>\n",
       "  <tbody>\n",
       "    <tr>\n",
       "      <th>0</th>\n",
       "      <td>100</td>\n",
       "      <td>0.140001</td>\n",
       "    </tr>\n",
       "    <tr>\n",
       "      <th>1</th>\n",
       "      <td>500</td>\n",
       "      <td>0.132035</td>\n",
       "    </tr>\n",
       "    <tr>\n",
       "      <th>2</th>\n",
       "      <td>1000</td>\n",
       "      <td>0.170782</td>\n",
       "    </tr>\n",
       "    <tr>\n",
       "      <th>3</th>\n",
       "      <td>1500</td>\n",
       "      <td>0.357156</td>\n",
       "    </tr>\n",
       "    <tr>\n",
       "      <th>4</th>\n",
       "      <td>2000</td>\n",
       "      <td>0.612143</td>\n",
       "    </tr>\n",
       "    <tr>\n",
       "      <th>5</th>\n",
       "      <td>2500</td>\n",
       "      <td>0.975312</td>\n",
       "    </tr>\n",
       "    <tr>\n",
       "      <th>6</th>\n",
       "      <td>3000</td>\n",
       "      <td>1.422947</td>\n",
       "    </tr>\n",
       "    <tr>\n",
       "      <th>7</th>\n",
       "      <td>3500</td>\n",
       "      <td>1.927924</td>\n",
       "    </tr>\n",
       "    <tr>\n",
       "      <th>8</th>\n",
       "      <td>4000</td>\n",
       "      <td>2.439372</td>\n",
       "    </tr>\n",
       "    <tr>\n",
       "      <th>9</th>\n",
       "      <td>4500</td>\n",
       "      <td>3.124909</td>\n",
       "    </tr>\n",
       "    <tr>\n",
       "      <th>10</th>\n",
       "      <td>5000</td>\n",
       "      <td>3.942747</td>\n",
       "    </tr>\n",
       "  </tbody>\n",
       "</table>\n",
       "</div>"
      ],
      "text/plain": [
       "    size      time\n",
       "0    100  0.140001\n",
       "1    500  0.132035\n",
       "2   1000  0.170782\n",
       "3   1500  0.357156\n",
       "4   2000  0.612143\n",
       "5   2500  0.975312\n",
       "6   3000  1.422947\n",
       "7   3500  1.927924\n",
       "8   4000  2.439372\n",
       "9   4500  3.124909\n",
       "10  5000  3.942747"
      ]
     },
     "execution_count": 137,
     "metadata": {},
     "output_type": "execute_result"
    }
   ],
   "source": [
    "df_gpu = pd.DataFrame(results_gpu)\n",
    "df_gpu"
   ]
  },
  {
   "cell_type": "markdown",
   "id": "122210bd",
   "metadata": {},
   "source": [
    "## Scaling the grid 100 times, the GPU is still twice faster than CPU."
   ]
  }
 ],
 "metadata": {
  "kernelspec": {
   "display_name": "Python 3",
   "language": "python",
   "name": "python3"
  },
  "language_info": {
   "codemirror_mode": {
    "name": "ipython",
    "version": 3
   },
   "file_extension": ".py",
   "mimetype": "text/x-python",
   "name": "python",
   "nbconvert_exporter": "python",
   "pygments_lexer": "ipython3",
   "version": "3.9.12"
  }
 },
 "nbformat": 4,
 "nbformat_minor": 5
}

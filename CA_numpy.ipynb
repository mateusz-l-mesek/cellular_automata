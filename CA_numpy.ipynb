{
 "cells": [
  {
   "cell_type": "code",
   "execution_count": 1,
   "id": "43478655",
   "metadata": {},
   "outputs": [],
   "source": [
    "class CA_numpy:\n",
    "    def __init__(self, state_initial):\n",
    "        self.state_initial = state_initial\n",
    "        self.rule = np.array([[0, 0, 0, 1, 0, 0, 0, 0, 0],[0, 0, 1, 1, 0, 0, 0, 0, 0]], dtype = np.float32)\n",
    "        kernel = np.array([[1,1,1],[1,0,1],[1,1,1]], dtype = np.float32)\n",
    "        self.kernel = kernel[::-1,::-1]\n",
    "    def run(self):\n",
    "        neighbors_sum = signal.convolve2d(self.state_initial, self.kernel, mode = 'same')\n",
    "        self.state_initial = self.rule[self.state_initial.astype(np.int64), neighbors_sum.astype(np.int64)]\n",
    "        return self.state_initial"
   ]
  },
  {
   "cell_type": "code",
   "execution_count": null,
   "id": "b9cb82c6",
   "metadata": {},
   "outputs": [],
   "source": []
  }
 ],
 "metadata": {
  "kernelspec": {
   "display_name": "Python 3",
   "language": "python",
   "name": "python3"
  },
  "language_info": {
   "codemirror_mode": {
    "name": "ipython",
    "version": 3
   },
   "file_extension": ".py",
   "mimetype": "text/x-python",
   "name": "python",
   "nbconvert_exporter": "python",
   "pygments_lexer": "ipython3",
   "version": "3.9.12"
  }
 },
 "nbformat": 4,
 "nbformat_minor": 5
}
